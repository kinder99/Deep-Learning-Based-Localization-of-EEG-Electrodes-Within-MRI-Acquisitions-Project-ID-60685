{
 "cells": [
  {
   "cell_type": "code",
   "execution_count": 12,
   "id": "eb936573",
   "metadata": {},
   "outputs": [],
   "source": [
    "import numpy as np\n",
    "import nibabel as nib\n",
    "import pickle\n",
    "import matplotlib.pyplot as plt\n",
    "import pandas as pd"
   ]
  },
  {
   "cell_type": "code",
   "execution_count": 13,
   "id": "0340ea16",
   "metadata": {},
   "outputs": [],
   "source": [
    "path_NAS = 'C:\\\\Users\\\\kiera\\\\Documents\\\\Unlimited_Home_Works\\\\Internship2025\\\\data\\\\'\n",
    "path_proc = path_NAS + \"post_processing\\\\T1_65\\\\pos_errors\\\\\"\n",
    "path_trans = path_NAS + 'trans\\\\'\n",
    "path_CSV = path_NAS + \"Correspondancies_ElectrodeDetection_Dataset.csv\"\n",
    "path_img = path_NAS + 'post_processing\\\\T1_65\\\\icp_output\\\\'"
   ]
  },
  {
   "cell_type": "code",
   "execution_count": 14,
   "id": "6fd40dc3",
   "metadata": {},
   "outputs": [],
   "source": [
    "corr = pd.read_csv(path_CSV) # Reading the CSV"
   ]
  },
  {
   "cell_type": "code",
   "execution_count": null,
   "id": "b5e874ec",
   "metadata": {},
   "outputs": [
    {
     "name": "stdout",
     "output_type": "stream",
     "text": [
      "<class 'nibabel.nifti1.Nifti1Header'> object, endian='<'\n",
      "sizeof_hdr      : 348\n",
      "data_type       : b''\n",
      "db_name         : b''\n",
      "extents         : 0\n",
      "session_error   : 0\n",
      "regular         : b'r'\n",
      "dim_info        : 0\n",
      "dim             : [  3 320 320 320   1   1   1   1]\n",
      "intent_p1       : 0.0\n",
      "intent_p2       : 0.0\n",
      "intent_p3       : 0.0\n",
      "intent_code     : none\n",
      "datatype        : int16\n",
      "bitpix          : 16\n",
      "slice_start     : 0\n",
      "pixdim          : [-1.          0.9375      0.9375      0.93749994  0.          0.\n",
      "  0.          0.        ]\n",
      "vox_offset      : 0.0\n",
      "scl_slope       : nan\n",
      "scl_inter       : nan\n",
      "slice_end       : 0\n",
      "slice_code      : unknown\n",
      "xyzt_units      : 10\n",
      "cal_max         : 0.0\n",
      "cal_min         : 0.0\n",
      "slice_duration  : 0.0\n",
      "toffset         : 0.0\n",
      "glmax           : 0\n",
      "glmin           : 0\n",
      "descrip         : b'spm - realigned'\n",
      "aux_file        : b''\n",
      "qform_code      : aligned\n",
      "sform_code      : aligned\n",
      "quatern_b       : -0.028848344\n",
      "quatern_c       : 0.99816036\n",
      "quatern_d       : 0.04829046\n",
      "qoffset_x       : 163.38069\n",
      "qoffset_y       : -98.93293\n",
      "qoffset_z       : -177.00725\n",
      "srow_x          : [-9.3498015e-01 -5.6039333e-02 -3.9723992e-02  1.6338069e+02]\n",
      "srow_y          : [-5.1942945e-02  9.3156713e-01 -9.1601610e-02 -9.8932930e+01]\n",
      "srow_z          : [-4.4948101e-02  8.9154482e-02  9.3216807e-01 -1.7700725e+02]\n",
      "intent_name     : b''\n",
      "magic           : b'n+1'\n"
     ]
    },
    {
     "ename": "",
     "evalue": "",
     "output_type": "error",
     "traceback": [
      "\u001b[1;31mThe Kernel crashed while executing code in the current cell or a previous cell. \n",
      "\u001b[1;31mPlease review the code in the cell(s) to identify a possible cause of the failure. \n",
      "\u001b[1;31mClick <a href='https://aka.ms/vscodeJupyterKernelCrash'>here</a> for more info. \n",
      "\u001b[1;31mView Jupyter <a href='command:jupyter.viewOutput'>log</a> for further details."
     ]
    }
   ],
   "source": [
    "headers = []\n",
    "\n",
    "for index, row in corr.iterrows():\n",
    "    id = str(row['Id'])\n",
    "    id = id.rjust(3,'0')\n",
    "\n",
    "    # Check if labeling is incorrect for this id\n",
    "    if row['Set'] == 'test':\n",
    "        s_dir = path_NAS + \"Raw\\\\\" + row['Folder'] + \"\\\\\" + row['Name'] + \"\\\\\" + row['Quality'] + \"\\\\rT1.nii\"\n",
    "        img = nib.load(s_dir) # Load original image using nibabel\n",
    "        headers.append(img.header)\n",
    "        \n",
    "print(headers[0])"
   ]
  }
 ],
 "metadata": {
  "kernelspec": {
   "display_name": "Python 3",
   "language": "python",
   "name": "python3"
  },
  "language_info": {
   "codemirror_mode": {
    "name": "ipython",
    "version": 3
   },
   "file_extension": ".py",
   "mimetype": "text/x-python",
   "name": "python",
   "nbconvert_exporter": "python",
   "pygments_lexer": "ipython3",
   "version": "3.12.3"
  }
 },
 "nbformat": 4,
 "nbformat_minor": 5
}
